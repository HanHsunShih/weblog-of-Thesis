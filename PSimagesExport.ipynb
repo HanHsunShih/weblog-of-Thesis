{
  "nbformat": 4,
  "nbformat_minor": 0,
  "metadata": {
    "colab": {
      "provenance": [],
      "mount_file_id": "1xiEvXaFGCj5CMCUoUs3d2z1OXcwxH7JP",
      "authorship_tag": "ABX9TyMM1lZIoVg7V4+bUx0rH81g",
      "include_colab_link": true
    },
    "kernelspec": {
      "name": "python3",
      "display_name": "Python 3"
    },
    "language_info": {
      "name": "python"
    }
  },
  "cells": [
    {
      "cell_type": "markdown",
      "metadata": {
        "id": "view-in-github",
        "colab_type": "text"
      },
      "source": [
        "<a href=\"https://colab.research.google.com/github/HanHsunShih/weblog-of-Thesis/blob/main/PSimagesExport.ipynb\" target=\"_parent\"><img src=\"https://colab.research.google.com/assets/colab-badge.svg\" alt=\"Open In Colab\"/></a>"
      ]
    },
    {
      "cell_type": "code",
      "execution_count": null,
      "metadata": {
        "colab": {
          "base_uri": "https://localhost:8080/"
        },
        "id": "XCksnmsfHKAv",
        "outputId": "8666c820-bf5e-4152-c927-a90ad3863393"
      },
      "outputs": [
        {
          "output_type": "stream",
          "name": "stdout",
          "text": [
            "Collecting psd-tools\n",
            "  Downloading psd_tools-1.9.28-cp310-cp310-manylinux_2_17_x86_64.manylinux2014_x86_64.whl (565 kB)\n",
            "\u001b[2K     \u001b[90m━━━━━━━━━━━━━━━━━━━━━━━━━━━━━━━━━━━━━━━━\u001b[0m \u001b[32m565.7/565.7 kB\u001b[0m \u001b[31m7.3 MB/s\u001b[0m eta \u001b[36m0:00:00\u001b[0m\n",
            "\u001b[?25hCollecting docopt>=0.5 (from psd-tools)\n",
            "  Downloading docopt-0.6.2.tar.gz (25 kB)\n",
            "  Preparing metadata (setup.py) ... \u001b[?25l\u001b[?25hdone\n",
            "Requirement already satisfied: attrs>=19.2.0 in /usr/local/lib/python3.10/dist-packages (from psd-tools) (23.1.0)\n",
            "Requirement already satisfied: Pillow>=6.2.0 in /usr/local/lib/python3.10/dist-packages (from psd-tools) (9.4.0)\n",
            "Collecting aggdraw (from psd-tools)\n",
            "  Downloading aggdraw-1.3.18-cp310-cp310-manylinux_2_17_x86_64.manylinux2014_x86_64.whl (993 kB)\n",
            "\u001b[2K     \u001b[90m━━━━━━━━━━━━━━━━━━━━━━━━━━━━━━━━━━━━━━━━\u001b[0m \u001b[32m993.7/993.7 kB\u001b[0m \u001b[31m39.9 MB/s\u001b[0m eta \u001b[36m0:00:00\u001b[0m\n",
            "\u001b[?25hRequirement already satisfied: numpy in /usr/local/lib/python3.10/dist-packages (from psd-tools) (1.23.5)\n",
            "Requirement already satisfied: scipy in /usr/local/lib/python3.10/dist-packages (from psd-tools) (1.11.3)\n",
            "Requirement already satisfied: scikit-image in /usr/local/lib/python3.10/dist-packages (from psd-tools) (0.19.3)\n",
            "Requirement already satisfied: networkx>=2.2 in /usr/local/lib/python3.10/dist-packages (from scikit-image->psd-tools) (3.2)\n",
            "Requirement already satisfied: imageio>=2.4.1 in /usr/local/lib/python3.10/dist-packages (from scikit-image->psd-tools) (2.31.6)\n",
            "Requirement already satisfied: tifffile>=2019.7.26 in /usr/local/lib/python3.10/dist-packages (from scikit-image->psd-tools) (2023.9.26)\n",
            "Requirement already satisfied: PyWavelets>=1.1.1 in /usr/local/lib/python3.10/dist-packages (from scikit-image->psd-tools) (1.4.1)\n",
            "Requirement already satisfied: packaging>=20.0 in /usr/local/lib/python3.10/dist-packages (from scikit-image->psd-tools) (23.2)\n",
            "Building wheels for collected packages: docopt\n",
            "  Building wheel for docopt (setup.py) ... \u001b[?25l\u001b[?25hdone\n",
            "  Created wheel for docopt: filename=docopt-0.6.2-py2.py3-none-any.whl size=13705 sha256=112f35e7a11d41e1172fabffe8f3976391dd4b484f9832565f33785b5ebe552f\n",
            "  Stored in directory: /root/.cache/pip/wheels/fc/ab/d4/5da2067ac95b36618c629a5f93f809425700506f72c9732fac\n",
            "Successfully built docopt\n",
            "Installing collected packages: docopt, aggdraw, psd-tools\n",
            "Successfully installed aggdraw-1.3.18 docopt-0.6.2 psd-tools-1.9.28\n",
            "Requirement already satisfied: psd-tools in /usr/local/lib/python3.10/dist-packages (1.9.28)\n",
            "Requirement already satisfied: Pillow in /usr/local/lib/python3.10/dist-packages (9.4.0)\n",
            "Requirement already satisfied: docopt>=0.5 in /usr/local/lib/python3.10/dist-packages (from psd-tools) (0.6.2)\n",
            "Requirement already satisfied: attrs>=19.2.0 in /usr/local/lib/python3.10/dist-packages (from psd-tools) (23.1.0)\n",
            "Requirement already satisfied: aggdraw in /usr/local/lib/python3.10/dist-packages (from psd-tools) (1.3.18)\n",
            "Requirement already satisfied: numpy in /usr/local/lib/python3.10/dist-packages (from psd-tools) (1.23.5)\n",
            "Requirement already satisfied: scipy in /usr/local/lib/python3.10/dist-packages (from psd-tools) (1.11.3)\n",
            "Requirement already satisfied: scikit-image in /usr/local/lib/python3.10/dist-packages (from psd-tools) (0.19.3)\n",
            "Requirement already satisfied: networkx>=2.2 in /usr/local/lib/python3.10/dist-packages (from scikit-image->psd-tools) (3.2)\n",
            "Requirement already satisfied: imageio>=2.4.1 in /usr/local/lib/python3.10/dist-packages (from scikit-image->psd-tools) (2.31.6)\n",
            "Requirement already satisfied: tifffile>=2019.7.26 in /usr/local/lib/python3.10/dist-packages (from scikit-image->psd-tools) (2023.9.26)\n",
            "Requirement already satisfied: PyWavelets>=1.1.1 in /usr/local/lib/python3.10/dist-packages (from scikit-image->psd-tools) (1.4.1)\n",
            "Requirement already satisfied: packaging>=20.0 in /usr/local/lib/python3.10/dist-packages (from scikit-image->psd-tools) (23.2)\n"
          ]
        }
      ],
      "source": [
        "!pip install psd-tools\n",
        "!pip install psd-tools Pillow"
      ]
    },
    {
      "cell_type": "code",
      "source": [
        "from google.colab import drive\n",
        "drive.mount('/content/drive')"
      ],
      "metadata": {
        "colab": {
          "base_uri": "https://localhost:8080/"
        },
        "id": "3tbS6gasHcOk",
        "outputId": "e4dacc6e-f8e2-4dba-d473-4471a4011eec"
      },
      "execution_count": null,
      "outputs": [
        {
          "output_type": "stream",
          "name": "stdout",
          "text": [
            "Drive already mounted at /content/drive; to attempt to forcibly remount, call drive.mount(\"/content/drive\", force_remount=True).\n"
          ]
        }
      ]
    },
    {
      "cell_type": "code",
      "source": [
        "from PIL import Image\n",
        "import os\n",
        "from psd_tools import PSDImage\n",
        "\n",
        "# 讀取PSD檔案\n",
        "psd_path = '/content/drive/MyDrive/Thesis/fishchief_style.psd'\n",
        "psd = PSDImage.open(psd_path)\n",
        "\n",
        "# 確保輸出目錄存在\n",
        "output_dir = '/content/drive/MyDrive/Thesis/1102LoRA dataset'\n",
        "if not os.path.exists(output_dir):\n",
        "    os.makedirs(output_dir)\n",
        "\n",
        "canvas_width, canvas_height = 512, 512\n",
        "\n",
        "# 導出每一個圖層\n",
        "for i, layer in enumerate(psd, start=1):\n",
        "    # 取得圖層的圖像\n",
        "    img = layer.topil()\n",
        "\n",
        "    # 若圖層為透明或沒有圖片，跳過此圖層\n",
        "    if img is None:\n",
        "        continue\n",
        "\n",
        "    # 如果圖層帶有透明度，則將透明部分填充為白色\n",
        "    if img.mode == 'RGBA':\n",
        "        # 創建一個白色背景\n",
        "        white_background = Image.new(\"RGBA\", img.size, \"WHITE\")\n",
        "        # 組合圖層與白色背景\n",
        "        img = Image.alpha_composite(white_background, img)\n",
        "\n",
        "    # 轉換合成後的圖片為RGB\n",
        "    img_rgb = img.convert(\"RGB\")\n",
        "\n",
        "    # 創建一個512x512的白色背景圖像\n",
        "    white_bg = Image.new(\"RGB\", (canvas_width, canvas_height), \"WHITE\")\n",
        "\n",
        "    # 考慮圖層的位置，確保圖層保持在原來的位置\n",
        "    paste_position = (layer.left, layer.top)\n",
        "\n",
        "    # 粘貼圖層到背景上\n",
        "    white_bg.paste(img_rgb, paste_position)\n",
        "\n",
        "    # 設定輸出路徑\n",
        "    output_path = os.path.join(output_dir, f\"{i}.jpg\")\n",
        "\n",
        "    # 導出圖像\n",
        "    white_bg.save(output_path, 'JPEG')\n",
        "\n",
        "    # 創建對應的空白TXT檔案\n",
        "    txt_output_path = os.path.join(output_dir, f\"{i}.txt\")\n",
        "    with open(txt_output_path, 'w') as fp:\n",
        "        pass  # 'pass'意味著不做任何事情，留下一個空文件\n",
        "\n",
        "print(f\"Layers exported to {output_dir}\")\n"
      ],
      "metadata": {
        "id": "FDVdGHy5PRZD",
        "outputId": "1f344ef0-8428-43a9-b2a9-467e9362b96f",
        "colab": {
          "base_uri": "https://localhost:8080/"
        }
      },
      "execution_count": null,
      "outputs": [
        {
          "output_type": "stream",
          "name": "stdout",
          "text": [
            "Layers exported to /content/drive/MyDrive/Thesis/1102LoRA dataset\n"
          ]
        }
      ]
    }
  ]
}